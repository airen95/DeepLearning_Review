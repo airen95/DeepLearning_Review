{
 "cells": [
  {
   "cell_type": "code",
   "execution_count": 58,
   "id": "ace000e2",
   "metadata": {},
   "outputs": [],
   "source": [
    "import tensorflow as tf\n",
    "from tensorflow.keras import layers, models,datasets\n",
    "import matplotlib.pyplot as plt"
   ]
  },
  {
   "cell_type": "code",
   "execution_count": 59,
   "id": "a00eb504",
   "metadata": {},
   "outputs": [],
   "source": [
    "(x_train, y_train), (x_test, y_test)=datasets.cifar10.load_data()"
   ]
  },
  {
   "cell_type": "code",
   "execution_count": 5,
   "id": "dcf48a78",
   "metadata": {},
   "outputs": [
    {
     "data": {
      "text/plain": [
       "(50000, 32, 32, 3)"
      ]
     },
     "execution_count": 5,
     "metadata": {},
     "output_type": "execute_result"
    }
   ],
   "source": [
    "x_train.shape"
   ]
  },
  {
   "cell_type": "code",
   "execution_count": 60,
   "id": "88d23c1a",
   "metadata": {},
   "outputs": [],
   "source": [
    "y_train, y_test= y_train.reshape(-1,),y_test.reshape(-1,)"
   ]
  },
  {
   "cell_type": "code",
   "execution_count": 11,
   "id": "4c3a5f5c",
   "metadata": {},
   "outputs": [],
   "source": [
    "labels=[\"airplane\",\"automobile\",\"bird\",\"cat\",\"deer\",\"dog\",\"frog\",\"horse\",\"ship\",\"truck\"]"
   ]
  },
  {
   "cell_type": "code",
   "execution_count": 18,
   "id": "8eb0ee11",
   "metadata": {},
   "outputs": [
    {
     "data": {
      "text/plain": [
       "array([[[ 59,  62,  63],\n",
       "        [ 43,  46,  45],\n",
       "        [ 50,  48,  43],\n",
       "        ...,\n",
       "        [158, 132, 108],\n",
       "        [152, 125, 102],\n",
       "        [148, 124, 103]],\n",
       "\n",
       "       [[ 16,  20,  20],\n",
       "        [  0,   0,   0],\n",
       "        [ 18,   8,   0],\n",
       "        ...,\n",
       "        [123,  88,  55],\n",
       "        [119,  83,  50],\n",
       "        [122,  87,  57]],\n",
       "\n",
       "       [[ 25,  24,  21],\n",
       "        [ 16,   7,   0],\n",
       "        [ 49,  27,   8],\n",
       "        ...,\n",
       "        [118,  84,  50],\n",
       "        [120,  84,  50],\n",
       "        [109,  73,  42]],\n",
       "\n",
       "       ...,\n",
       "\n",
       "       [[208, 170,  96],\n",
       "        [201, 153,  34],\n",
       "        [198, 161,  26],\n",
       "        ...,\n",
       "        [160, 133,  70],\n",
       "        [ 56,  31,   7],\n",
       "        [ 53,  34,  20]],\n",
       "\n",
       "       [[180, 139,  96],\n",
       "        [173, 123,  42],\n",
       "        [186, 144,  30],\n",
       "        ...,\n",
       "        [184, 148,  94],\n",
       "        [ 97,  62,  34],\n",
       "        [ 83,  53,  34]],\n",
       "\n",
       "       [[177, 144, 116],\n",
       "        [168, 129,  94],\n",
       "        [179, 142,  87],\n",
       "        ...,\n",
       "        [216, 184, 140],\n",
       "        [151, 118,  84],\n",
       "        [123,  92,  72]]], dtype=uint8)"
      ]
     },
     "execution_count": 18,
     "metadata": {},
     "output_type": "execute_result"
    }
   ],
   "source": [
    "x_train[0]"
   ]
  },
  {
   "cell_type": "code",
   "execution_count": 15,
   "id": "73d323a8",
   "metadata": {},
   "outputs": [],
   "source": [
    "def plotting(x,y,idx):\n",
    "    plt.figure(figsize=(10,2))\n",
    "    plt.imshow(x[idx])\n",
    "    plt.xlabel(labels[y[idx]])"
   ]
  },
  {
   "cell_type": "code",
   "execution_count": 16,
   "id": "e151e3d2",
   "metadata": {},
   "outputs": [
    {
     "data": {
      "image/png": "[encoded data removed]",
      "text/plain": [
       "<Figure size 720x144 with 1 Axes>"
      ]
     },
     "metadata": {
      "needs_background": "light"
     },
     "output_type": "display_data"
    }
   ],
   "source": [
    "plotting(x_train, y_train,13)"
   ]
  },
  {
   "cell_type": "code",
   "execution_count": 17,
   "id": "eef139dc",
   "metadata": {},
   "outputs": [
    {
     "data": {
      "image/png": "[encoded data removed]",
      "text/plain": [
       "<Figure size 720x144 with 1 Axes>"
      ]
     },
     "metadata": {
      "needs_background": "light"
     },
     "output_type": "display_data"
    }
   ],
   "source": [
    "plotting(x_train, y_train,23)"
   ]
  },
  {
   "cell_type": "markdown",
   "id": "b435c7e6",
   "metadata": {},
   "source": [
    "## Normalize data"
   ]
  },
  {
   "cell_type": "code",
   "execution_count": 61,
   "id": "e028a67f",
   "metadata": {},
   "outputs": [
    {
     "data": {
      "text/plain": [
       "array([[0.23137255, 0.24313725, 0.24705882],\n",
       "       [0.16862745, 0.18039216, 0.17647059],\n",
       "       [0.19607843, 0.18823529, 0.16862745],\n",
       "       [0.26666667, 0.21176471, 0.16470588],\n",
       "       [0.38431373, 0.28627451, 0.20392157],\n",
       "       [0.46666667, 0.35686275, 0.24705882],\n",
       "       [0.54509804, 0.41960784, 0.29411765],\n",
       "       [0.56862745, 0.43137255, 0.31372549],\n",
       "       [0.58431373, 0.45882353, 0.34901961],\n",
       "       [0.58431373, 0.47058824, 0.36470588],\n",
       "       [0.51372549, 0.40392157, 0.30196078],\n",
       "       [0.49019608, 0.38823529, 0.29803922],\n",
       "       [0.55686275, 0.45098039, 0.35686275],\n",
       "       [0.56470588, 0.43921569, 0.3372549 ],\n",
       "       [0.5372549 , 0.41176471, 0.30980392],\n",
       "       [0.50588235, 0.38039216, 0.27843137],\n",
       "       [0.5372549 , 0.41568627, 0.30980392],\n",
       "       [0.5254902 , 0.41568627, 0.29803922],\n",
       "       [0.48627451, 0.38039216, 0.25098039],\n",
       "       [0.54509804, 0.44313725, 0.30588235],\n",
       "       [0.54509804, 0.43921569, 0.29411765],\n",
       "       [0.52156863, 0.41176471, 0.27058824],\n",
       "       [0.53333333, 0.41176471, 0.29019608],\n",
       "       [0.54509804, 0.42352941, 0.30196078],\n",
       "       [0.59607843, 0.47058824, 0.34901961],\n",
       "       [0.63921569, 0.51372549, 0.39215686],\n",
       "       [0.65882353, 0.53333333, 0.42352941],\n",
       "       [0.62352941, 0.50588235, 0.4       ],\n",
       "       [0.61960784, 0.50980392, 0.40784314],\n",
       "       [0.61960784, 0.51764706, 0.42352941],\n",
       "       [0.59607843, 0.49019608, 0.4       ],\n",
       "       [0.58039216, 0.48627451, 0.40392157]])"
      ]
     },
     "execution_count": 61,
     "metadata": {},
     "output_type": "execute_result"
    }
   ],
   "source": [
    "x_train=x_train/255.0\n",
    "x_test=x_test/255.0\n",
    "x_train[0][0]"
   ]
  },
  {
   "cell_type": "markdown",
   "id": "c9f2ea62",
   "metadata": {},
   "source": [
    "## Simple ANN"
   ]
  },
  {
   "cell_type": "code",
   "execution_count": 22,
   "id": "fd747d87",
   "metadata": {},
   "outputs": [
    {
     "name": "stdout",
     "output_type": "stream",
     "text": [
      "WARNING:tensorflow:From /home/tonlee/.local/lib/python3.6/site-packages/tensorflow/python/ops/init_ops.py:1251: calling VarianceScaling.__init__ (from tensorflow.python.ops.init_ops) with dtype is deprecated and will be removed in a future version.\n",
      "Instructions for updating:\n",
      "Call initializer instance with the dtype argument instead of passing it to the constructor\n",
      "Epoch 1/5\n",
      "50000/50000 [==============================] - 84s 2ms/sample - loss: 2.3008 - acc: 0.1285\n",
      "Epoch 2/5\n",
      "50000/50000 [==============================] - 83s 2ms/sample - loss: 2.2997 - acc: 0.1370\n",
      "Epoch 3/5\n",
      "50000/50000 [==============================] - 82s 2ms/sample - loss: 2.2990 - acc: 0.1441\n",
      "Epoch 4/5\n",
      "50000/50000 [==============================] - 92s 2ms/sample - loss: 2.2980 - acc: 0.1530\n",
      "Epoch 5/5\n",
      "50000/50000 [==============================] - 93s 2ms/sample - loss: 2.2970 - acc: 0.1560\n"
     ]
    },
    {
     "data": {
      "text/plain": [
       "<tensorflow.python.keras.callbacks.History at 0x7ff09cd3c7f0>"
      ]
     },
     "execution_count": 22,
     "metadata": {},
     "output_type": "execute_result"
    }
   ],
   "source": [
    "ann=models.Sequential([\n",
    "    layers.Flatten(input_shape=[32,32,3]),\n",
    "    layers.Dense(3000, activation='relu'),\n",
    "    layers.Dense(1000, activation='relu'),\n",
    "    layers.Dense(10,activation='softmax')\n",
    "])\n",
    "ann.compile(optimizer='SGD', loss='sparse_categorical_crossentropy',metrics=['accuracy'])\n",
    "ann.fit(x_train, y_train, epochs=5)"
   ]
  },
  {
   "cell_type": "code",
   "execution_count": 23,
   "id": "e1eab4f4",
   "metadata": {},
   "outputs": [
    {
     "name": "stdout",
     "output_type": "stream",
     "text": [
      "10000/10000 [==============================] - 4s 423us/sample - loss: 2.2960 - acc: 0.1460\n"
     ]
    },
    {
     "data": {
      "text/plain": [
       "[2.2960484222412108, 0.146]"
      ]
     },
     "execution_count": 23,
     "metadata": {},
     "output_type": "execute_result"
    }
   ],
   "source": [
    "ann.evaluate(x_test, y_test)"
   ]
  },
  {
   "cell_type": "code",
   "execution_count": 24,
   "id": "201864a1",
   "metadata": {},
   "outputs": [
    {
     "data": {
      "text/plain": [
       "array([3, 8, 8, 0, 6])"
      ]
     },
     "execution_count": 24,
     "metadata": {},
     "output_type": "execute_result"
    }
   ],
   "source": [
    "y_pred_ann=ann.predict(x_test)"
   ]
  },
  {
   "cell_type": "code",
   "execution_count": 25,
   "id": "fec2ae46",
   "metadata": {},
   "outputs": [
    {
     "data": {
      "text/plain": [
       "array([[0.09722502, 0.09815677, 0.09995966, 0.10295487, 0.09983345,\n",
       "        0.09965426, 0.10137182, 0.09964436, 0.09969203, 0.1015078 ],\n",
       "       [0.1005611 , 0.09835131, 0.09918122, 0.10058613, 0.09765215,\n",
       "        0.0976363 , 0.09804966, 0.09852973, 0.10378772, 0.10566465],\n",
       "       [0.09937973, 0.09823947, 0.09932699, 0.10138735, 0.09810856,\n",
       "        0.09809899, 0.09878233, 0.09892398, 0.10297894, 0.10477363],\n",
       "       [0.10027252, 0.09786909, 0.09960458, 0.10118367, 0.09841614,\n",
       "        0.0981235 , 0.09868359, 0.09879711, 0.10312116, 0.10392861],\n",
       "       [0.09666112, 0.09797617, 0.10000119, 0.10323047, 0.10036396,\n",
       "        0.10021091, 0.10194047, 0.09980704, 0.09891447, 0.10089426]],\n",
       "      dtype=float32)"
      ]
     },
     "execution_count": 25,
     "metadata": {},
     "output_type": "execute_result"
    }
   ],
   "source": [
    "y_pred_ann[:5]"
   ]
  },
  {
   "cell_type": "code",
   "execution_count": 28,
   "id": "5b1eb0be",
   "metadata": {},
   "outputs": [],
   "source": [
    "import pandas as pd\n",
    "import numpy as np"
   ]
  },
  {
   "cell_type": "code",
   "execution_count": 29,
   "id": "d3ad02db",
   "metadata": {},
   "outputs": [
    {
     "data": {
      "text/plain": [
       "[3, 9, 9, 9, 3]"
      ]
     },
     "execution_count": 29,
     "metadata": {},
     "output_type": "execute_result"
    }
   ],
   "source": [
    "predict_ann=[np.argmax(i) for i in y_pred_ann]\n",
    "predict_ann[:5]"
   ]
  },
  {
   "cell_type": "code",
   "execution_count": 37,
   "id": "3fe91bae",
   "metadata": {},
   "outputs": [
    {
     "data": {
      "text/plain": [
       "array([3, 8, 8, 0, 6])"
      ]
     },
     "execution_count": 37,
     "metadata": {},
     "output_type": "execute_result"
    }
   ],
   "source": [
    "y_test[:5]"
   ]
  },
  {
   "cell_type": "code",
   "execution_count": 41,
   "id": "deb5c6b5",
   "metadata": {},
   "outputs": [
    {
     "data": {
      "text/html": [
       "<div>\n",
       "<style scoped>\n",
       "    .dataframe tbody tr th:only-of-type {\n",
       "        vertical-align: middle;\n",
       "    }\n",
       "\n",
       "    .dataframe tbody tr th {\n",
       "        vertical-align: top;\n",
       "    }\n",
       "\n",
       "    .dataframe thead th {\n",
       "        text-align: right;\n",
       "    }\n",
       "</style>\n",
       "<table border=\"1\" class=\"dataframe\">\n",
       "  <thead>\n",
       "    <tr style=\"text-align: right;\">\n",
       "      <th></th>\n",
       "      <th>Actual</th>\n",
       "      <th>Predict</th>\n",
       "    </tr>\n",
       "  </thead>\n",
       "  <tbody>\n",
       "    <tr>\n",
       "      <th>0</th>\n",
       "      <td>3</td>\n",
       "      <td>3</td>\n",
       "    </tr>\n",
       "    <tr>\n",
       "      <th>1</th>\n",
       "      <td>8</td>\n",
       "      <td>9</td>\n",
       "    </tr>\n",
       "    <tr>\n",
       "      <th>2</th>\n",
       "      <td>8</td>\n",
       "      <td>9</td>\n",
       "    </tr>\n",
       "    <tr>\n",
       "      <th>3</th>\n",
       "      <td>0</td>\n",
       "      <td>9</td>\n",
       "    </tr>\n",
       "    <tr>\n",
       "      <th>4</th>\n",
       "      <td>6</td>\n",
       "      <td>3</td>\n",
       "    </tr>\n",
       "  </tbody>\n",
       "</table>\n",
       "</div>"
      ],
      "text/plain": [
       "   Actual  Predict\n",
       "0       3        3\n",
       "1       8        9\n",
       "2       8        9\n",
       "3       0        9\n",
       "4       6        3"
      ]
     },
     "execution_count": 41,
     "metadata": {},
     "output_type": "execute_result"
    }
   ],
   "source": [
    "table=pd.DataFrame({'Actual':y_test,'Predict':predict_ann})\n",
    "table.head()"
   ]
  },
  {
   "cell_type": "code",
   "execution_count": 44,
   "id": "752d51bd",
   "metadata": {},
   "outputs": [
    {
     "name": "stdout",
     "output_type": "stream",
     "text": [
      "Confusion Matrix: \n",
      "\n",
      " [[  1   0   0 215   0   0   0   0   1 783]\n",
      " [  0   0   0 441   0   0   0   0   0 559]\n",
      " [  0   0   0 588   0   0   0   0   0 412]\n",
      " [  0   0   0 662   0   0   0   0   0 338]\n",
      " [  0   0   0 727   0   0   0   0   0 273]\n",
      " [  0   0   0 702   0   0   0   0   0 298]\n",
      " [  0   0   0 740   0   0   0   0   0 260]\n",
      " [  0   0   0 511   0   0   0   0   0 489]\n",
      " [  0   0   0 225   0   0   0   0   1 774]\n",
      " [  0   0   0 203   0   0   0   0   1 796]]\n"
     ]
    }
   ],
   "source": [
    "cm=tf.math.confusion_matrix(y_test, predict_ann)\n",
    "with tf.Session():\n",
    "   print('Confusion Matrix: \\n\\n', tf.Tensor.eval(cm,feed_dict=None, session=None))"
   ]
  },
  {
   "cell_type": "code",
   "execution_count": null,
   "id": "de75b67a",
   "metadata": {},
   "outputs": [],
   "source": [
    "#bad at image classification"
   ]
  },
  {
   "cell_type": "markdown",
   "id": "3ee8b2d5",
   "metadata": {},
   "source": [
    "## Using CNN"
   ]
  },
  {
   "cell_type": "code",
   "execution_count": 62,
   "id": "a3d761d9",
   "metadata": {},
   "outputs": [],
   "source": [
    "cnn=models.Sequential([\n",
    "    #cnn\n",
    "    layers.Conv2D(filters=32,kernel_size=(3,3), activation='relu', input_shape=(32,32,3)),\n",
    "    layers.MaxPooling2D((2,2)),\n",
    "    \n",
    "    layers.Conv2D(filters=64, kernel_size=(3,3), activation='relu'),\n",
    "    layers.MaxPooling2D((2,2)),\n",
    "    #Dense\n",
    "    layers.Flatten(),\n",
    "    layers.Dense(64, activation='relu'),\n",
    "    layers.Dense(10,activation='softmax')\n",
    "])"
   ]
  },
  {
   "cell_type": "code",
   "execution_count": 63,
   "id": "8bdca006",
   "metadata": {},
   "outputs": [],
   "source": [
    "cnn.compile(optimizer='adam',\n",
    "           loss='sparse_categorical_crossentropy',\n",
    "           metrics=['accuracy'])"
   ]
  },
  {
   "cell_type": "code",
   "execution_count": 64,
   "id": "83449b48",
   "metadata": {},
   "outputs": [
    {
     "name": "stdout",
     "output_type": "stream",
     "text": [
      "Epoch 1/10\n",
      "50000/50000 [==============================] - 31s 625us/sample - loss: 1.4441 - acc: 0.4813\n",
      "Epoch 2/10\n",
      "50000/50000 [==============================] - 29s 580us/sample - loss: 1.0934 - acc: 0.6140\n",
      "Epoch 3/10\n",
      "50000/50000 [==============================] - 30s 597us/sample - loss: 0.9651 - acc: 0.6621\n",
      "Epoch 4/10\n",
      "50000/50000 [==============================] - 31s 618us/sample - loss: 0.8815 - acc: 0.6915\n",
      "Epoch 5/10\n",
      "50000/50000 [==============================] - 32s 640us/sample - loss: 0.8159 - acc: 0.7156\n",
      "Epoch 6/10\n",
      "50000/50000 [==============================] - 32s 639us/sample - loss: 0.7544 - acc: 0.7364\n",
      "Epoch 7/10\n",
      "50000/50000 [==============================] - 32s 642us/sample - loss: 0.7064 - acc: 0.7532\n",
      "Epoch 8/10\n",
      "50000/50000 [==============================] - 32s 640us/sample - loss: 0.6570 - acc: 0.7691\n",
      "Epoch 9/10\n",
      "50000/50000 [==============================] - 32s 647us/sample - loss: 0.6126 - acc: 0.7856\n",
      "Epoch 10/10\n",
      "50000/50000 [==============================] - 33s 651us/sample - loss: 0.5749 - acc: 0.7980\n"
     ]
    },
    {
     "data": {
      "text/plain": [
       "<tensorflow.python.keras.callbacks.History at 0x7ff09d207198>"
      ]
     },
     "execution_count": 64,
     "metadata": {},
     "output_type": "execute_result"
    }
   ],
   "source": [
    "cnn.fit(x_train, y_train, epochs=10)"
   ]
  },
  {
   "cell_type": "code",
   "execution_count": 66,
   "id": "4f5abb36",
   "metadata": {},
   "outputs": [
    {
     "name": "stdout",
     "output_type": "stream",
     "text": [
      "10000/10000 [==============================] - 2s 225us/sample - loss: 0.9621 - acc: 0.6924\n"
     ]
    },
    {
     "data": {
      "text/plain": [
       "[0.9621024419784546, 0.6924]"
      ]
     },
     "execution_count": 66,
     "metadata": {},
     "output_type": "execute_result"
    }
   ],
   "source": [
    "cnn.evaluate(x_test, y_test)"
   ]
  },
  {
   "cell_type": "code",
   "execution_count": 67,
   "id": "1f527252",
   "metadata": {},
   "outputs": [],
   "source": [
    "y_pred_cnn=cnn.predict(x_test)"
   ]
  },
  {
   "cell_type": "code",
   "execution_count": 68,
   "id": "db311000",
   "metadata": {},
   "outputs": [],
   "source": [
    "predict_cnn=[np.argmax(i) for i in y_pred_cnn]"
   ]
  },
  {
   "cell_type": "code",
   "execution_count": 69,
   "id": "87c2d107",
   "metadata": {},
   "outputs": [
    {
     "data": {
      "text/plain": [
       "[3, 8, 1, 0, 4]"
      ]
     },
     "execution_count": 69,
     "metadata": {},
     "output_type": "execute_result"
    }
   ],
   "source": [
    "predict_cnn[:5]"
   ]
  },
  {
   "cell_type": "markdown",
   "id": "70ccc461",
   "metadata": {},
   "source": [
    "## Making prediction"
   ]
  },
  {
   "cell_type": "code",
   "execution_count": 70,
   "id": "6eaef6c4",
   "metadata": {},
   "outputs": [],
   "source": [
    "def predict(idx):\n",
    "    plt.figure(figsize=(13,2))\n",
    "    plt.imshow(x_test[idx])\n",
    "    print('Actual:%s' %(labels[y_test[idx]]))\n",
    "    print('Predict:%s' %(labels[predict_cnn[idx]]))"
   ]
  },
  {
   "cell_type": "code",
   "execution_count": 71,
   "id": "e25eecf9",
   "metadata": {},
   "outputs": [
    {
     "name": "stdout",
     "output_type": "stream",
     "text": [
      "Actual:horse\n",
      "Predict:horse\n"
     ]
    },
    {
     "data": {
      "image/png": "[encoded data removed]",
      "text/plain": [
       "<Figure size 936x144 with 1 Axes>"
      ]
     },
     "metadata": {
      "needs_background": "light"
     },
     "output_type": "display_data"
    }
   ],
   "source": [
    "predict(13)"
   ]
  },
  {
   "cell_type": "code",
   "execution_count": 72,
   "id": "9cba3450",
   "metadata": {},
   "outputs": [
    {
     "name": "stdout",
     "output_type": "stream",
     "text": [
      "Actual:frog\n",
      "Predict:frog\n"
     ]
    },
    {
     "data": {
      "image/png": "[encoded data removed]",
      "text/plain": [
       "<Figure size 936x144 with 1 Axes>"
      ]
     },
     "metadata": {
      "needs_background": "light"
     },
     "output_type": "display_data"
    }
   ],
   "source": [
    "predict(19)"
   ]
  },
  {
   "cell_type": "code",
   "execution_count": 73,
   "id": "ca381573",
   "metadata": {},
   "outputs": [
    {
     "name": "stdout",
     "output_type": "stream",
     "text": [
      "Actual:airplane\n",
      "Predict:airplane\n"
     ]
    },
    {
     "data": {
      "image/png": "[encoded data removed]",
      "text/plain": [
       "<Figure size 936x144 with 1 Axes>"
      ]
     },
     "metadata": {
      "needs_background": "light"
     },
     "output_type": "display_data"
    }
   ],
   "source": [
    "predict(10)"
   ]
  },
  {
   "cell_type": "code",
   "execution_count": null,
   "id": "a3c4fa12",
   "metadata": {},
   "outputs": [],
   "source": []
  }
 ],
 "metadata": {
  "kernelspec": {
   "display_name": "Python 3",
   "language": "python",
   "name": "python3"
  },
  "language_info": {
   "codemirror_mode": {
    "name": "ipython",
    "version": 3
   },
   "file_extension": ".py",
   "mimetype": "text/x-python",
   "name": "python",
   "nbconvert_exporter": "python",
   "pygments_lexer": "ipython3",
   "version": "3.6.9"
  }
 },
 "nbformat": 4,
 "nbformat_minor": 5
}
